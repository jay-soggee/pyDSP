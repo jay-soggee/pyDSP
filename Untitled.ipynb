{
 "cells": [
  {
   "cell_type": "code",
   "execution_count": 1,
   "id": "3e0e5788",
   "metadata": {},
   "outputs": [
    {
     "name": "stdout",
     "output_type": "stream",
     "text": [
      "Collecting pyaudio\n",
      "  Downloading PyAudio-0.2.13-cp39-cp39-win_amd64.whl (164 kB)\n",
      "     ------------------------------------- 164.1/164.1 kB 10.3 MB/s eta 0:00:00\n",
      "Installing collected packages: pyaudio\n",
      "Successfully installed pyaudio-0.2.13\n"
     ]
    }
   ],
   "source": [
    "!pip install pyaudio"
   ]
  },
  {
   "cell_type": "code",
   "execution_count": 2,
   "id": "5af0a811",
   "metadata": {},
   "outputs": [
    {
     "name": "stdout",
     "output_type": "stream",
     "text": [
      "Collecting keyboard\n",
      "  Downloading keyboard-0.13.5-py3-none-any.whl (58 kB)\n",
      "     ---------------------------------------- 58.1/58.1 kB ? eta 0:00:00\n",
      "Installing collected packages: keyboard\n",
      "Successfully installed keyboard-0.13.5\n"
     ]
    }
   ],
   "source": [
    "!pip install keyboard"
   ]
  },
  {
   "cell_type": "code",
   "execution_count": 5,
   "id": "de6eecd7",
   "metadata": {},
   "outputs": [
    {
     "name": "stderr",
     "output_type": "stream",
     "text": [
      "C:\\Users\\Jay\\AppData\\Local\\Temp\\ipykernel_17336\\2483394463.py:22: DeprecationWarning: The binary mode of fromstring is deprecated, as it behaves surprisingly on unicode inputs. Use frombuffer instead\n",
      "  in_data = np.fromstring(samples, dtype=np.int16)\n",
      "C:\\Users\\Jay\\AppData\\Local\\Temp\\ipykernel_17336\\2483394463.py:24: DeprecationWarning: tostring() is deprecated. Use tobytes() instead.\n",
      "  y = out.tostring()\n"
     ]
    }
   ],
   "source": [
    "import numpy as np\n",
    "import pyaudio\n",
    "import keyboard\n",
    "\n",
    "RATE = 16000\n",
    "CHUNK = int(RATE/10)\n",
    "\n",
    "def process(signal):\n",
    "    result = signal\n",
    "    return result\n",
    "\n",
    "p=pyaudio.PyAudio()\n",
    "stream = p.open(format=pyaudio.paInt16, \\\n",
    "                channels=1,             \\\n",
    "                rate=RATE,              \\\n",
    "                input=True,             \\\n",
    "                output=True,            \\\n",
    "                frames_per_buffer=CHUNK, \\\n",
    "                input_device_index=0)\n",
    "while(True):\n",
    "    samples = stream.read(CHUNK)\n",
    "    in_data = np.fromstring(samples, dtype=np.int16)\n",
    "    out = process(in_data)\n",
    "    y = out.tostring()\n",
    "    stream.write(y)\n",
    "    if keyboard.is_pressed('q'):\n",
    "        break\n",
    "\n",
    "stream.stop_stream()\n",
    "stream.close()\n",
    "p.terminate()"
   ]
  },
  {
   "cell_type": "code",
   "execution_count": null,
   "id": "dcb70359",
   "metadata": {},
   "outputs": [],
   "source": []
  }
 ],
 "metadata": {
  "kernelspec": {
   "display_name": "Python 3 (ipykernel)",
   "language": "python",
   "name": "python3"
  },
  "language_info": {
   "codemirror_mode": {
    "name": "ipython",
    "version": 3
   },
   "file_extension": ".py",
   "mimetype": "text/x-python",
   "name": "python",
   "nbconvert_exporter": "python",
   "pygments_lexer": "ipython3",
   "version": "3.9.13"
  }
 },
 "nbformat": 4,
 "nbformat_minor": 5
}
